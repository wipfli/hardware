{
 "metadata": {
  "language_info": {
   "codemirror_mode": {
    "name": "ipython",
    "version": 3
   },
   "file_extension": ".py",
   "mimetype": "text/x-python",
   "name": "python",
   "nbconvert_exporter": "python",
   "pygments_lexer": "ipython3",
   "version": "3.6.9-final"
  },
  "orig_nbformat": 2,
  "kernelspec": {
   "name": "Python 3.6.9 64-bit",
   "display_name": "Python 3.6.9 64-bit",
   "metadata": {
    "interpreter": {
     "hash": "30295c5bec572e859485b1ffa5e89b8b3e2022ef6e3e739c1ac40f143a557caf"
    }
   }
  }
 },
 "nbformat": 4,
 "nbformat_minor": 2,
 "cells": [
  {
   "cell_type": "code",
   "execution_count": 197,
   "metadata": {},
   "outputs": [],
   "source": [
    "class Components:\n",
    "    _components = []\n",
    "    def add(self, name, description, supplier, price, currency, link):\n",
    "        self._components.append({\n",
    "            'name': name,\n",
    "            'description': description,\n",
    "            'supplier': supplier,\n",
    "            'price': price,\n",
    "            'currency': currency,\n",
    "            'link': link\n",
    "        })\n",
    "    def total_price(self):\n",
    "        result = 0.0\n",
    "        for component in self._components:\n",
    "            result += component['price']\n",
    "        return result\n",
    "\n",
    "    def get_html_table(self):\n",
    "        html = '<table>'\n",
    "        html += '''\n",
    "        <tr>\n",
    "            <td>name</td>\n",
    "            <td>description</td>\n",
    "            <td>supplier</td>\n",
    "            <td>price</td>\n",
    "            <td>currency</td>\n",
    "            <td>link</td>\n",
    "        </tr>\n",
    "        '''\n",
    "        for component in self._components:\n",
    "            html += f'''\n",
    "            <tr>\n",
    "                <td>{component['name']}</td>\n",
    "                <td>{component['description']}</td>\n",
    "                <td>{component['supplier']}</td>\n",
    "                <td>{component['price']}</td>\n",
    "                <td>{component['currency']}</td>\n",
    "                <td><a href=\"{component['link']}\">link</a></td>\n",
    "            </tr>\n",
    "            '''\n",
    "        \n",
    "        html += f'''\n",
    "        <tr>\n",
    "            <td><b>Total</b></td>\n",
    "            <td>(1 USD == 1 CHF)</td>\n",
    "            <td></td>\n",
    "            <td><b>{round(self.total_price(), 2)}</b></td>\n",
    "            <td><b>CHF</b></td>\n",
    "            <td></td>\n",
    "        </tr>\n",
    "        '''\n",
    "        html += '</table>'\n",
    "        return html"
   ]
  },
  {
   "cell_type": "code",
   "execution_count": 198,
   "metadata": {},
   "outputs": [],
   "source": [
    "components = Components()"
   ]
  },
  {
   "cell_type": "code",
   "execution_count": 199,
   "metadata": {},
   "outputs": [],
   "source": [
    "components.add(\n",
    "    'BMP 280',\n",
    "    'pressure sensor breakout board',\n",
    "    'aliexpress',\n",
    "    0.73,\n",
    "    'USD',\n",
    "    'https://www.aliexpress.com/item/32654011852.html'\n",
    ")"
   ]
  },
  {
   "cell_type": "code",
   "execution_count": 200,
   "metadata": {},
   "outputs": [],
   "source": [
    "components.add(\n",
    "    'LSM303',\n",
    "    'magnetic field and acceleration sensor breakout board',\n",
    "    'aliexpress',\n",
    "    2.01,\n",
    "    'USD',\n",
    "    'https://www.aliexpress.com/item/4000046625980.html'\n",
    ")"
   ]
  },
  {
   "cell_type": "code",
   "execution_count": 201,
   "metadata": {},
   "outputs": [],
   "source": [
    "components.add(\n",
    "    'SHT 31',\n",
    "    'temperature sensor breakout board',\n",
    "    'aliexpress',\n",
    "    3.48,\n",
    "    'USD',\n",
    "    'https://www.aliexpress.com/item/32850554676.html'\n",
    ")"
   ]
  },
  {
   "cell_type": "code",
   "execution_count": 202,
   "metadata": {},
   "outputs": [],
   "source": [
    "components.add(\n",
    "    'TSL2591',\n",
    "    'light sensor breakout board',\n",
    "    'aliexpress',\n",
    "    4.67,\n",
    "    'USD',\n",
    "    'https://www.aliexpress.com/item/33011080668.html'\n",
    ")"
   ]
  },
  {
   "cell_type": "code",
   "execution_count": 203,
   "metadata": {},
   "outputs": [],
   "source": [
    "components.add(\n",
    "    'USB microphone',\n",
    "    'microphone',\n",
    "    'aliexpress',\n",
    "    2.14,\n",
    "    'USD',\n",
    "    'https://www.aliexpress.com/item/32973953613.html'\n",
    ")"
   ]
  },
  {
   "cell_type": "code",
   "execution_count": 204,
   "metadata": {},
   "outputs": [],
   "source": [
    "components.add(\n",
    "    'GPS', \n",
    "    'ublox GPS NEO-6M with antenna', \n",
    "    'aliexpress',\n",
    "    4.74,\n",
    "    'USD',\n",
    "    'https://www.aliexpress.com/item/4000070604981.html'\n",
    ")"
   ]
  },
  {
   "cell_type": "code",
   "execution_count": 205,
   "metadata": {},
   "outputs": [],
   "source": [
    "components.add(\n",
    "    'RPi',\n",
    "    'Raspberry Pi Model 3B+',\n",
    "    'Conrad',\n",
    "    43.95, \n",
    "    'CHF',\n",
    "    'https://www.conrad.ch/de/p/raspberry-pi-3-b-1-gb-4-x-1-4-ghz-raspberry-pi-1668026.html'\n",
    ")"
   ]
  },
  {
   "cell_type": "code",
   "execution_count": 206,
   "metadata": {},
   "outputs": [],
   "source": [
    "components.add(\n",
    "    'Power Bank',\n",
    "    'Intenso Power Bank 10000 mAh',\n",
    "    'digitec',\n",
    "    27.8,\n",
    "    'CHF',\n",
    "    'https://www.digitec.ch/de/s1/product/intenso-power-bank-10000mah-powerbank-8396271'\n",
    ")"
   ]
  },
  {
   "cell_type": "code",
   "execution_count": 207,
   "metadata": {},
   "outputs": [],
   "source": [
    "components.add(\n",
    "    'Box',\n",
    "    '3d printed box',\n",
    "    'makerspace',\n",
    "    4.15,\n",
    "    'CHF',\n",
    "    'https://sph.ethz.ch'\n",
    ")"
   ]
  },
  {
   "cell_type": "code",
   "execution_count": 208,
   "metadata": {},
   "outputs": [],
   "source": [
    "components.add(\n",
    "    'LCD',\n",
    "    'display 16x2 blue with controller',\n",
    "    'aliexpress',\n",
    "    1.54,\n",
    "    'CHF',\n",
    "    'https://www.aliexpress.com/item/33003558783.html'\n",
    ")"
   ]
  },
  {
   "cell_type": "code",
   "execution_count": 209,
   "metadata": {},
   "outputs": [],
   "source": [
    "components.add(\n",
    "    'Buttons',\n",
    "    'tactile buttons 6 mm x 6 mm x 5 mm',\n",
    "    'aliexpress',\n",
    "    0.0086,\n",
    "    'USD',\n",
    "    'https://www.aliexpress.com/item/32858344336.html'\n",
    ")"
   ]
  },
  {
   "cell_type": "code",
   "execution_count": 210,
   "metadata": {},
   "outputs": [],
   "source": [
    "components.add(\n",
    "    'Level Shifter',\n",
    "    'logic level shifter 3V to 5V',\n",
    "    'aliexpress',\n",
    "    0.15,\n",
    "    'USD',\n",
    "    'https://www.aliexpress.com/item/1972789887.html'\n",
    ")"
   ]
  },
  {
   "cell_type": "code",
   "execution_count": 211,
   "metadata": {},
   "outputs": [],
   "source": [
    "components.add(\n",
    "    'SD card',\n",
    "    '128 GB sandisk ultra microSD A1',\n",
    "    'aliexpress',\n",
    "    16.0,\n",
    "    'USD',\n",
    "    'https://www.aliexpress.com/item/4000545318985.html'\n",
    ")"
   ]
  },
  {
   "cell_type": "code",
   "execution_count": 213,
   "metadata": {},
   "outputs": [],
   "source": [
    "components.add(\n",
    "    'PCB',\n",
    "    'custom pcb for sensors and buttons',\n",
    "    'jlcpcb',\n",
    "    1.54,\n",
    "    'USD',\n",
    "    'https://jlcpcb.com'\n",
    ")"
   ]
  },
  {
   "cell_type": "code",
   "execution_count": 214,
   "metadata": {},
   "outputs": [
    {
     "output_type": "display_data",
     "data": {
      "text/plain": "<IPython.core.display.HTML object>",
      "text/html": "<table>\n        <tr>\n            <td>name</td>\n            <td>description</td>\n            <td>supplier</td>\n            <td>price</td>\n            <td>currency</td>\n            <td>link</td>\n        </tr>\n        \n            <tr>\n                <td>BMP 280</td>\n                <td>pressure sensor breakout board</td>\n                <td>aliexpress</td>\n                <td>0.73</td>\n                <td>USD</td>\n                <td><a href=\"https://www.aliexpress.com/item/32654011852.html\">link</a></td>\n            </tr>\n            \n            <tr>\n                <td>LSM303</td>\n                <td>magnetic field and acceleration sensor breakout board</td>\n                <td>aliexpress</td>\n                <td>2.01</td>\n                <td>USD</td>\n                <td><a href=\"https://www.aliexpress.com/item/4000046625980.html\">link</a></td>\n            </tr>\n            \n            <tr>\n                <td>SHT 31</td>\n                <td>temperature sensor breakout board</td>\n                <td>aliexpress</td>\n                <td>3.48</td>\n                <td>USD</td>\n                <td><a href=\"https://www.aliexpress.com/item/32850554676.html\">link</a></td>\n            </tr>\n            \n            <tr>\n                <td>TSL2591</td>\n                <td>light sensor breakout board</td>\n                <td>aliexpress</td>\n                <td>4.67</td>\n                <td>USD</td>\n                <td><a href=\"https://www.aliexpress.com/item/33011080668.html\">link</a></td>\n            </tr>\n            \n            <tr>\n                <td>USB microphone</td>\n                <td>microphone</td>\n                <td>aliexpress</td>\n                <td>2.14</td>\n                <td>USD</td>\n                <td><a href=\"https://www.aliexpress.com/item/32973953613.html\">link</a></td>\n            </tr>\n            \n            <tr>\n                <td>GPS</td>\n                <td>ublox GPS NEO-6M with antenna</td>\n                <td>aliexpress</td>\n                <td>4.74</td>\n                <td>USD</td>\n                <td><a href=\"https://www.aliexpress.com/item/4000070604981.html\">link</a></td>\n            </tr>\n            \n            <tr>\n                <td>RPi</td>\n                <td>Raspberry Pi Model 3B+</td>\n                <td>Conrad</td>\n                <td>43.95</td>\n                <td>CHF</td>\n                <td><a href=\"https://www.conrad.ch/de/p/raspberry-pi-3-b-1-gb-4-x-1-4-ghz-raspberry-pi-1668026.html\">link</a></td>\n            </tr>\n            \n            <tr>\n                <td>Power Bank</td>\n                <td>Intenso Power Bank 10000 mAh</td>\n                <td>digitec</td>\n                <td>27.8</td>\n                <td>CHF</td>\n                <td><a href=\"https://www.digitec.ch/de/s1/product/intenso-power-bank-10000mah-powerbank-8396271\">link</a></td>\n            </tr>\n            \n            <tr>\n                <td>Box</td>\n                <td>3d printed box</td>\n                <td>makerspace</td>\n                <td>4.15</td>\n                <td>CHF</td>\n                <td><a href=\"https://sph.ethz.ch\">link</a></td>\n            </tr>\n            \n            <tr>\n                <td>LCD</td>\n                <td>display 16x2 blue with controller</td>\n                <td>aliexpress</td>\n                <td>1.54</td>\n                <td>CHF</td>\n                <td><a href=\"https://www.aliexpress.com/item/33003558783.html\">link</a></td>\n            </tr>\n            \n            <tr>\n                <td>Buttons</td>\n                <td>tactile buttons 6 mm x 6 mm x 5 mm</td>\n                <td>aliexpress</td>\n                <td>0.0086</td>\n                <td>USD</td>\n                <td><a href=\"https://www.aliexpress.com/item/32858344336.html\">link</a></td>\n            </tr>\n            \n            <tr>\n                <td>Level Shifter</td>\n                <td>logic level shifter 3V to 5V</td>\n                <td>aliexpress</td>\n                <td>0.15</td>\n                <td>USD</td>\n                <td><a href=\"https://www.aliexpress.com/item/1972789887.html\">link</a></td>\n            </tr>\n            \n            <tr>\n                <td>SD card</td>\n                <td>128 GB sandisk ultra microSD A1</td>\n                <td>aliexpress</td>\n                <td>16.0</td>\n                <td>USD</td>\n                <td><a href=\"https://www.aliexpress.com/item/4000545318985.html\">link</a></td>\n            </tr>\n            \n            <tr>\n                <td>PCB</td>\n                <td>custom pcb for sensors and buttons</td>\n                <td>jlcpcb</td>\n                <td>1.54</td>\n                <td>USD</td>\n                <td><a href=\"https://jlcpcb.com\">link</a></td>\n            </tr>\n            \n        <tr>\n            <td><b>Total</b></td>\n            <td>(1 USD == 1 CHF)</td>\n            <td></td>\n            <td><b>112.91</b></td>\n            <td><b>CHF</b></td>\n            <td></td>\n        </tr>\n        </table>"
     },
     "metadata": {}
    }
   ],
   "source": [
    "from IPython.core.display import display, HTML\n",
    "display(HTML(components.get_html_table()))"
   ]
  }
 ]
}